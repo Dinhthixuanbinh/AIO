{
  "cells": [
    {
      "cell_type": "markdown",
      "metadata": {
        "id": "view-in-github",
        "colab_type": "text"
      },
      "source": [
        "<a href=\"https://colab.research.google.com/github/Dinhthixuanbinh/AIO/blob/main/c_expr_db_extract_frames.ipynb\" target=\"_parent\"><img src=\"https://colab.research.google.com/assets/colab-badge.svg\" alt=\"Open In Colab\"/></a>"
      ]
    },
    {
      "cell_type": "markdown",
      "metadata": {
        "id": "ItkL_vd-IC6t"
      },
      "source": [
        "## 1. Setup Kaggle\n",
        "Tutorial: https://www.kaggle.com/code/vitouphy/how-to-upload-from-google-colab-to-kaggle-dataset\n"
      ]
    },
    {
      "cell_type": "code",
      "execution_count": null,
      "metadata": {
        "colab": {
          "base_uri": "https://localhost:8080/"
        },
        "id": "-O_2x1p6wwh9",
        "outputId": "acec0a6d-aaf5-44fc-c609-abe5b50ed726"
      },
      "outputs": [
        {
          "output_type": "stream",
          "name": "stdout",
          "text": [
            "Drive already mounted at /content/drive; to attempt to forcibly remount, call drive.mount(\"/content/drive\", force_remount=True).\n"
          ]
        }
      ],
      "source": [
        "from google.colab import drive\n",
        "drive.mount('/content/drive')"
      ]
    },
    {
      "cell_type": "code",
      "execution_count": null,
      "metadata": {
        "id": "w0L3jM6AyGM0",
        "colab": {
          "base_uri": "https://localhost:8080/"
        },
        "outputId": "39dc0ec8-2222-4bfd-c061-909b7502a07f"
      },
      "outputs": [
        {
          "output_type": "stream",
          "name": "stdout",
          "text": [
            "\n",
            "WARNING: apt does not have a stable CLI interface. Use with caution in scripts.\n",
            "\n"
          ]
        }
      ],
      "source": [
        "!sudo apt install tree 2>&1 > /dev/null\n",
        "!pip install -q kaggle"
      ]
    },
    {
      "cell_type": "code",
      "execution_count": null,
      "metadata": {
        "id": "Yo-No8Mlz_Jw"
      },
      "outputs": [],
      "source": [
        "%%bash\n",
        "mkdir -p ~/.kaggle\n",
        "cp /content/drive/MyDrive/Workplaces/kaggle/kaggle.json ~/.kaggle\n",
        "chmod 600 /root/.kaggle/kaggle.json"
      ]
    },
    {
      "cell_type": "code",
      "execution_count": null,
      "metadata": {
        "colab": {
          "base_uri": "https://localhost:8080/"
        },
        "id": "NJj7G-1dDi07",
        "outputId": "2d57180c-4f02-456b-d36e-cc31bcbf3c83"
      },
      "outputs": [
        {
          "output_type": "stream",
          "name": "stdout",
          "text": [
            "Data package template written to: /content/drive/MyDrive/Workplaces/c-expr-frames/dataset-metadata.json\n"
          ]
        }
      ],
      "source": [
        "!kaggle datasets init -p /content/drive/MyDrive/Workplaces/c-expr-frames"
      ]
    },
    {
      "cell_type": "markdown",
      "metadata": {
        "id": "FFfvBlZYIIvx"
      },
      "source": [
        "## 2. Extract frames"
      ]
    },
    {
      "cell_type": "code",
      "execution_count": null,
      "metadata": {
        "colab": {
          "base_uri": "https://localhost:8080/"
        },
        "id": "qo_1TLXEINXn",
        "outputId": "cb351de5-a891-49c0-eebc-35c16034154d"
      },
      "outputs": [
        {
          "output_type": "stream",
          "name": "stdout",
          "text": [
            "\u001b[01;34m/content/drive/MyDrive/Workplaces/abaw6/c-expr-db\u001b[0m\n",
            "├── \u001b[00mdataset-metadata.json\u001b[0m\n",
            "└── \u001b[01;31mvideos.zip\u001b[0m\n",
            "\n",
            "0 directories, 2 files\n"
          ]
        }
      ],
      "source": [
        "work_dir = '/content/drive/MyDrive/Workplaces/abaw6/c-expr-db'\n",
        "!tree -R $work_dir"
      ]
    },
    {
      "cell_type": "code",
      "execution_count": null,
      "metadata": {
        "id": "ug9MNuGtLWw5"
      },
      "outputs": [],
      "source": [
        "data_dir = '/content/drive/MyDrive/Workplaces/c-expr-frames'"
      ]
    },
    {
      "cell_type": "code",
      "execution_count": null,
      "metadata": {
        "colab": {
          "base_uri": "https://localhost:8080/"
        },
        "id": "LNnx2Me1OcJQ",
        "outputId": "4d037e3e-042b-4d60-cf59-1e4af8930fcf"
      },
      "outputs": [
        {
          "name": "stdout",
          "output_type": "stream",
          "text": [
            "Extracted all videos to /content/drive/MyDrive/Workplaces/c-expr-frames\n"
          ]
        }
      ],
      "source": [
        "import zipfile\n",
        "import os\n",
        "\n",
        "# Specify the path of the zip file and the target directory\n",
        "zip_file_path = f'{work_dir}/videos.zip'\n",
        "target_directory = data_dir\n",
        "\n",
        "# Ensure the target directory exists, create if it doesn't\n",
        "if not os.path.exists(target_directory):\n",
        "    os.makedirs(target_directory)\n",
        "\n",
        "# Open the zip file and extract its contents\n",
        "with zipfile.ZipFile(zip_file_path, 'r') as zip_ref:\n",
        "    zip_ref.extractall(target_directory)\n",
        "\n",
        "print(f'Extracted all videos to {target_directory}')"
      ]
    },
    {
      "cell_type": "code",
      "execution_count": null,
      "metadata": {
        "id": "b_xJR5-DOu-A",
        "colab": {
          "base_uri": "https://localhost:8080/"
        },
        "outputId": "83b2589b-d6ff-4812-e165-b1c9432c1d62"
      },
      "outputs": [
        {
          "output_type": "stream",
          "name": "stdout",
          "text": [
            "\u001b[01;34m/content/drive/MyDrive/Workplaces/c-expr-frames/frames\u001b[0m\n",
            "\n",
            "0 directories, 0 files\n"
          ]
        }
      ],
      "source": [
        "!tree -R $data_dir/frames"
      ]
    },
    {
      "cell_type": "code",
      "execution_count": null,
      "metadata": {
        "id": "E6CpUHqiRDIx",
        "colab": {
          "base_uri": "https://localhost:8080/"
        },
        "outputId": "530272ea-96b4-47ca-f71e-e57ebd82caff"
      },
      "outputs": [
        {
          "output_type": "stream",
          "name": "stdout",
          "text": [
            "Extracted 1465 frames from video 55 into folder /content/drive/MyDrive/Workplaces/c-expr-frames/frames/55\n",
            "Extracted 1784 frames from video 41 into folder /content/drive/MyDrive/Workplaces/c-expr-frames/frames/41\n",
            "Extracted 2552 frames from video 40 into folder /content/drive/MyDrive/Workplaces/c-expr-frames/frames/40\n",
            "Extracted 3030 frames from video 54 into folder /content/drive/MyDrive/Workplaces/c-expr-frames/frames/54\n",
            "Extracted 3593 frames from video 42 into folder /content/drive/MyDrive/Workplaces/c-expr-frames/frames/42\n",
            "Extracted 3859 frames from video 56 into folder /content/drive/MyDrive/Workplaces/c-expr-frames/frames/56\n",
            "Extracted 3934 frames from video 43 into folder /content/drive/MyDrive/Workplaces/c-expr-frames/frames/43\n",
            "Extracted 4114 frames from video 47 into folder /content/drive/MyDrive/Workplaces/c-expr-frames/frames/47\n",
            "Extracted 4556 frames from video 53 into folder /content/drive/MyDrive/Workplaces/c-expr-frames/frames/53\n",
            "Extracted 4556 frames from video  into folder /content/drive/MyDrive/Workplaces/c-expr-frames/frames/\n",
            "Extracted 4632 frames from video 52 into folder /content/drive/MyDrive/Workplaces/c-expr-frames/frames/52\n",
            "Extracted 4984 frames from video 46 into folder /content/drive/MyDrive/Workplaces/c-expr-frames/frames/46\n",
            "Extracted 5257 frames from video 50 into folder /content/drive/MyDrive/Workplaces/c-expr-frames/frames/50\n",
            "Extracted 5643 frames from video 44 into folder /content/drive/MyDrive/Workplaces/c-expr-frames/frames/44\n",
            "Extracted 5704 frames from video 45 into folder /content/drive/MyDrive/Workplaces/c-expr-frames/frames/45\n",
            "Extracted 6186 frames from video 51 into folder /content/drive/MyDrive/Workplaces/c-expr-frames/frames/51\n",
            "Extracted 6763 frames from video 36 into folder /content/drive/MyDrive/Workplaces/c-expr-frames/frames/36\n",
            "Extracted 6831 frames from video 22 into folder /content/drive/MyDrive/Workplaces/c-expr-frames/frames/22\n",
            "Extracted 6897 frames from video 23 into folder /content/drive/MyDrive/Workplaces/c-expr-frames/frames/23\n",
            "Extracted 7051 frames from video 37 into folder /content/drive/MyDrive/Workplaces/c-expr-frames/frames/37\n",
            "Extracted 7428 frames from video 21 into folder /content/drive/MyDrive/Workplaces/c-expr-frames/frames/21\n",
            "Extracted 7624 frames from video 35 into folder /content/drive/MyDrive/Workplaces/c-expr-frames/frames/35\n",
            "Extracted 7711 frames from video 09 into folder /content/drive/MyDrive/Workplaces/c-expr-frames/frames/09\n",
            "Extracted 8013 frames from video 08 into folder /content/drive/MyDrive/Workplaces/c-expr-frames/frames/08\n",
            "Extracted 8069 frames from video 34 into folder /content/drive/MyDrive/Workplaces/c-expr-frames/frames/34\n",
            "Extracted 8274 frames from video 20 into folder /content/drive/MyDrive/Workplaces/c-expr-frames/frames/20\n",
            "Extracted 8556 frames from video 18 into folder /content/drive/MyDrive/Workplaces/c-expr-frames/frames/18\n",
            "Extracted 9182 frames from video 24 into folder /content/drive/MyDrive/Workplaces/c-expr-frames/frames/24\n",
            "Extracted 9254 frames from video 30 into folder /content/drive/MyDrive/Workplaces/c-expr-frames/frames/30\n",
            "Extracted 10027 frames from video 31 into folder /content/drive/MyDrive/Workplaces/c-expr-frames/frames/31\n",
            "Extracted 10293 frames from video 25 into folder /content/drive/MyDrive/Workplaces/c-expr-frames/frames/25\n",
            "Extracted 10548 frames from video 19 into folder /content/drive/MyDrive/Workplaces/c-expr-frames/frames/19\n",
            "Extracted 10740 frames from video 33 into folder /content/drive/MyDrive/Workplaces/c-expr-frames/frames/33\n",
            "Extracted 10796 frames from video 27 into folder /content/drive/MyDrive/Workplaces/c-expr-frames/frames/27\n",
            "Extracted 13234 frames from video 26 into folder /content/drive/MyDrive/Workplaces/c-expr-frames/frames/26\n",
            "Extracted 13646 frames from video 32 into folder /content/drive/MyDrive/Workplaces/c-expr-frames/frames/32\n",
            "Extracted 13713 frames from video 17 into folder /content/drive/MyDrive/Workplaces/c-expr-frames/frames/17\n",
            "Extracted 14015 frames from video 03 into folder /content/drive/MyDrive/Workplaces/c-expr-frames/frames/03\n",
            "Extracted 14293 frames from video 02 into folder /content/drive/MyDrive/Workplaces/c-expr-frames/frames/02\n",
            "Extracted 14558 frames from video 16 into folder /content/drive/MyDrive/Workplaces/c-expr-frames/frames/16\n",
            "Extracted 20017 frames from video 14 into folder /content/drive/MyDrive/Workplaces/c-expr-frames/frames/14\n",
            "Extracted 20346 frames from video 28 into folder /content/drive/MyDrive/Workplaces/c-expr-frames/frames/28\n",
            "Extracted 20437 frames from video 29 into folder /content/drive/MyDrive/Workplaces/c-expr-frames/frames/29\n",
            "Extracted 21223 frames from video 15 into folder /content/drive/MyDrive/Workplaces/c-expr-frames/frames/15\n",
            "Extracted 21882 frames from video 01 into folder /content/drive/MyDrive/Workplaces/c-expr-frames/frames/01\n",
            "Extracted 22377 frames from video 39 into folder /content/drive/MyDrive/Workplaces/c-expr-frames/frames/39\n",
            "Extracted 22565 frames from video 05 into folder /content/drive/MyDrive/Workplaces/c-expr-frames/frames/05\n",
            "Extracted 22793 frames from video 11 into folder /content/drive/MyDrive/Workplaces/c-expr-frames/frames/11\n",
            "Extracted 22828 frames from video 10 into folder /content/drive/MyDrive/Workplaces/c-expr-frames/frames/10\n",
            "Extracted 24032 frames from video 04 into folder /content/drive/MyDrive/Workplaces/c-expr-frames/frames/04\n",
            "Extracted 24735 frames from video 38 into folder /content/drive/MyDrive/Workplaces/c-expr-frames/frames/38\n",
            "Extracted 25179 frames from video 12 into folder /content/drive/MyDrive/Workplaces/c-expr-frames/frames/12\n",
            "Extracted 25240 frames from video 06 into folder /content/drive/MyDrive/Workplaces/c-expr-frames/frames/06\n",
            "Extracted 25368 frames from video 07 into folder /content/drive/MyDrive/Workplaces/c-expr-frames/frames/07\n",
            "Extracted 25437 frames from video 13 into folder /content/drive/MyDrive/Workplaces/c-expr-frames/frames/13\n",
            "Extracted 25541 frames from video 48 into folder /content/drive/MyDrive/Workplaces/c-expr-frames/frames/48\n",
            "Extracted 26138 frames from video 49 into folder /content/drive/MyDrive/Workplaces/c-expr-frames/frames/49\n"
          ]
        }
      ],
      "source": [
        "import cv2\n",
        "import os\n",
        "\n",
        "\n",
        "def extract_frames(video_path, target_folder, frame_count):\n",
        "    # Determine the video number and prepare the target subfolder\n",
        "    video_name = os.path.splitext(os.path.basename(video_path))[0]\n",
        "    video_number = video_name.split('.')[0]  # Assuming the video name is the number\n",
        "    frame_target_folder = os.path.join(target_folder, video_number)\n",
        "\n",
        "    # Create the target subfolder if it doesn't exist\n",
        "    if not os.path.exists(frame_target_folder):\n",
        "        os.makedirs(frame_target_folder)\n",
        "\n",
        "    cap = cv2.VideoCapture(video_path)\n",
        "\n",
        "    while True:\n",
        "        ret, frame = cap.read()\n",
        "        if not ret:\n",
        "            break\n",
        "\n",
        "        # Filename with natural numbers, zero-padded to 5 digits\n",
        "        frame_filename = f\"{frame_count:05d}.jpeg\"\n",
        "        frame_path = os.path.join(frame_target_folder, frame_filename)\n",
        "        cv2.imwrite(frame_path, frame)\n",
        "\n",
        "        frame_count += 1\n",
        "\n",
        "    # Release the capture object\n",
        "    cap.release()\n",
        "    print(f\"Extracted {frame_count - 1} frames from video {video_number} into folder {frame_target_folder}\")\n",
        "    return frame_count\n",
        "\n",
        "source_directory = f'{data_dir}/videos'\n",
        "target_directory = f'{data_dir}/frames'\n",
        "frame_count = 1  # Start frame counting at 1\n",
        "\n",
        "for video_file in os.listdir(source_directory):\n",
        "    video_path = os.path.join(source_directory, video_file)\n",
        "    if os.path.isfile(video_path) and not video_file.startswith('__MACOSX'):  # Skip macOS metadata folder\n",
        "        frame_count = extract_frames(video_path, target_directory, frame_count)\n"
      ]
    },
    {
      "cell_type": "code",
      "source": [
        "# Push to Kaggle Using Kaggle API\n",
        "!kaggle datasets init -p /content/drive/MyDrive/Workplaces/"
      ],
      "metadata": {
        "colab": {
          "base_uri": "https://localhost:8080/"
        },
        "id": "nhIdo-hok4Yc",
        "outputId": "58673b5f-05e3-499c-f7e9-6da50c973801"
      },
      "execution_count": null,
      "outputs": [
        {
          "output_type": "stream",
          "name": "stdout",
          "text": [
            "Data package template written to: /content/drive/MyDrive/Workplaces/c-expr-frames/frames/dataset-metadata.json\n"
          ]
        }
      ]
    },
    {
      "cell_type": "code",
      "source": [
        "import json\n",
        "\n",
        "metadata = {\n",
        "  \"title\": \"random-name-db-frames\",\n",
        "  \"id\": \"hungstd/random-name-db-frames\",\n",
        "  \"licenses\": [\n",
        "    {\n",
        "      \"name\": \"CC0-1.0\"\n",
        "    }\n",
        "  ]\n",
        "}\n",
        "\n",
        "json_object = json.dumps(metadata, indent=4)\n",
        "with open(f\"/content/drive/MyDrive/Workplaces/dataset-metadata.json\", \"w\") as f:\n",
        "  f.write(json_object)"
      ],
      "metadata": {
        "id": "DOo37Bt0lGGB"
      },
      "execution_count": null,
      "outputs": []
    },
    {
      "cell_type": "code",
      "source": [
        "dataset_path = f'{data_dir}/frames'"
      ],
      "metadata": {
        "id": "lxIaKkEYsfAO"
      },
      "execution_count": null,
      "outputs": []
    },
    {
      "cell_type": "code",
      "source": [
        "!kaggle datasets create -p $dataset_path --dir-mode zip"
      ],
      "metadata": {
        "id": "HhLzbVY5sdz-"
      },
      "execution_count": null,
      "outputs": []
    }
  ],
  "metadata": {
    "colab": {
      "provenance": [],
      "include_colab_link": true
    },
    "kernelspec": {
      "display_name": "Python 3",
      "name": "python3"
    },
    "language_info": {
      "name": "python"
    }
  },
  "nbformat": 4,
  "nbformat_minor": 0
}